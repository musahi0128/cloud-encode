{
  "cells": [
    {
      "cell_type": "markdown",
      "metadata": {
        "id": "view-in-github",
        "colab_type": "text"
      },
      "source": [
        "<a href=\"https://colab.research.google.com/github/musahi0128/cloud-encode/blob/main/encoder.ipynb\" target=\"_parent\"><img src=\"https://colab.research.google.com/assets/colab-badge.svg\" alt=\"Open In Colab\"/></a>"
      ]
    },
    {
      "cell_type": "code",
      "execution_count": null,
      "metadata": {
        "colab": {
          "base_uri": "https://localhost:8080/"
        },
        "id": "oPRHca2j6_HF",
        "outputId": "5d65091f-1d76-4f4e-e3b3-e461bc73ae6b"
      },
      "outputs": [
        {
          "output_type": "stream",
          "name": "stdout",
          "text": [
            "You can run following command to connect via ssh\n",
            "\n",
            "On Windows: del /s /q %userprofile%\\.ssh\\known_hosts && ssh -o \"StrictHostKeyChecking no\" -J musahi0128@ssh-j.com root@colab-ssh-1 -D1080 -L 22:localhost:22\n",
            "\n",
            "On *nix: rm -r ~/.ssh/known_hosts; ln -s /dev/null ~/.ssh/known_hosts; ssh -4 -o \"StrictHostKeyChecking no\" -J musahi0128@ssh-j.com root@colab-ssh-1 -D1080 -L 22:localhost:22\n",
            "\n",
            "Remember to keep this tab active and watch for a rechapta box. If Google detect inactivity on this tab, the runtime will be stopped and you will no longer have access to the setup\n",
            "\n",
            "Note that Google Colab will start with around 23.5 / 107.7 GB of storage capacity. To be on the safe side, do not process more than ~37 GB per session\n",
            "\n",
            "{\n",
            "  \"ip\": \"34.125.141.69\",\n",
            "  \"hostname\": \"69.141.125.34.bc.googleusercontent.com\",\n",
            "  \"city\": \"Las Vegas\",\n",
            "  \"region\": \"Nevada\",\n",
            "  \"country\": \"US\",\n",
            "  \"loc\": \"36.1750,-115.1372\",\n",
            "  \"org\": \"AS396982 Google LLC\",\n",
            "  \"postal\": \"89111\",\n",
            "  \"timezone\": \"America/Los_Angeles\",\n",
            "  \"readme\": \"https://ipinfo.io/missingauth\"\n",
            "}"
          ]
        }
      ],
      "source": [
        "#@title Access Google Colab with SSH-J.com { display-mode: \"form\" }\n",
        "import os.path\n",
        "import IPython\n",
        "#!curl -s ipinfo.io | grep '\"country\": \"US\"' > /dev/null || kill 1\n",
        "if not os.path.exists(\"/tmp/.4439503891\"):\n",
        "  !mkdir -p {/root/.ssh,/root/.config/rclone,/root/.config/internetarchive,/root/Downloads}\n",
        "  !ln -s /dev/null /root/.ssh/known_hosts\n",
        "  !for a in update upgrade full-upgrade dist-upgrade; do sudo apt-get --quiet $a; done > /dev/null 2>&1\n",
        "  !curl -s https://rclone.org/install.sh | sudo bash > /dev/null 2>&1\n",
        "  !cp /content/drive/MyDrive/ssh/rclone.conf /root/.config/rclone/\n",
        "  !cp /content/drive/MyDrive/ssh/idn-freestream.ia.ini /root/.config/internetarchive/\n",
        "  !cp /content/drive/MyDrive/ssh/cookies.txt /root/\n",
        "  !sudo apt-get --quiet install fuse3 ssh nano tmux rename aria2 mkvtoolnix jq -y > /dev/null 2>&1\n",
        "  !pip install yt-dlp > /dev/null 2>&1\n",
        "  !for a in clean purge autoclean autoremove; do sudo apt-get --quiet $a; done > /dev/null 2>&1\n",
        "  !service ssh stop > /dev/null 2>&1\n",
        "  !cp /content/drive/MyDrive/ssh/sshd_config /etc/ssh/sshd_config\n",
        "  !cp /content/drive/MyDrive/ssh/authorized_keys /root/.ssh/authorized_keys\n",
        "  !service ssh start > /dev/null\n",
        "  !nohup ssh -o \"StrictHostKeyChecking no\" musahi0128@ssh-j.com -N -R colab-ssh-1:22:localhost:22 > /dev/null 2>&1 &\n",
        "  !touch \"/tmp/.4439503891\"\n",
        "\n",
        "!echo -e 'You can run following command to connect via ssh\\n\\nOn Windows: del /s /q %userprofile%\\.ssh\\known_hosts && ssh -o \"StrictHostKeyChecking no\" -J musahi0128@ssh-j.com root@colab-ssh-1 -D1080 -L 22:localhost:22\\n\\nOn *nix: rm -r ~/.ssh/known_hosts; ln -s /dev/null ~/.ssh/known_hosts; ssh -4 -o \"StrictHostKeyChecking no\" -J musahi0128@ssh-j.com root@colab-ssh-1 -D1080 -L 22:localhost:22\\n\\nRemember to keep this tab active and watch for a rechapta box. If Google detect inactivity on this tab, the runtime will be stopped and you will no longer have access to the setup\\n\\nNote that Google Colab will start with around 23.5 / 107.7 GB of storage capacity. To be on the safe side, do not process more than ~37 GB per session\\n'\n",
        "!curl -s ipinfo.io"
      ]
    },
    {
      "cell_type": "markdown",
      "source": [
        "Sample location with good speed to archive.org\n",
        "```\n",
        "{\n",
        "  \"ip\": \"35.186.175.220\",\n",
        "  \"hostname\": \"220.175.186.35.bc.googleusercontent.com\",\n",
        "  \"city\": \"Washington\",\n",
        "  \"region\": \"Washington, D.C.\",\n",
        "  \"country\": \"US\",\n",
        "  \"loc\": \"38.8951,-77.0364\",\n",
        "  \"org\": \"AS396982 Google LLC\",\n",
        "  \"postal\": \"20004\",\n",
        "  \"timezone\": \"America/New_York\",\n",
        "  \"readme\": \"https://ipinfo.io/missingauth\"\n",
        "}\n",
        "```\n",
        "\n",
        "\n"
      ],
      "metadata": {
        "id": "iOoqbSD0LBpN"
      }
    },
    {
      "cell_type": "code",
      "source": [
        "from google.colab import output\n",
        "output.serve_kernel_port_as_window(8181)"
      ],
      "metadata": {
        "colab": {
          "base_uri": "https://localhost:8080/",
          "height": 34
        },
        "id": "KD8240LiWJIS",
        "outputId": "5a49b2ee-ae2e-4cdf-ea44-d3aab915eb91"
      },
      "execution_count": null,
      "outputs": [
        {
          "output_type": "display_data",
          "data": {
            "text/plain": [
              "<IPython.core.display.Javascript object>"
            ],
            "application/javascript": [
              "(async (port, path, text, element) => {\n",
              "    if (!google.colab.kernel.accessAllowed) {\n",
              "      return;\n",
              "    }\n",
              "    element.appendChild(document.createTextNode(''));\n",
              "    const url = await google.colab.kernel.proxyPort(port);\n",
              "    const anchor = document.createElement('a');\n",
              "    anchor.href = new URL(path, url).toString();\n",
              "    anchor.target = '_blank';\n",
              "    anchor.setAttribute('data-href', url + path);\n",
              "    anchor.textContent = text;\n",
              "    element.appendChild(anchor);\n",
              "  })(8181, \"/\", \"https://localhost:8181/\", window.element)"
            ]
          },
          "metadata": {}
        }
      ]
    }
  ],
  "metadata": {
    "colab": {
      "provenance": [],
      "mount_file_id": "11Gqyb0fQCxOFkjR-5fn26g5ba0J0gvRu",
      "authorship_tag": "ABX9TyOXfzVk8exvjigTi8rXVDC0",
      "include_colab_link": true
    },
    "gpuClass": "standard",
    "kernelspec": {
      "display_name": "Python 3",
      "name": "python3"
    },
    "language_info": {
      "name": "python"
    }
  },
  "nbformat": 4,
  "nbformat_minor": 0
}